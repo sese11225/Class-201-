{
  "nbformat": 4,
  "nbformat_minor": 0,
  "metadata": {
    "colab": {
      "name": "Project#3.ipynb",
      "provenance": [],
      "authorship_tag": "ABX9TyOAT9DktzScsjTMdSm7Lvfc",
      "include_colab_link": true
    },
    "kernelspec": {
      "name": "python3",
      "display_name": "Python 3"
    },
    "language_info": {
      "name": "python"
    }
  },
  "cells": [
    {
      "cell_type": "markdown",
      "metadata": {
        "id": "view-in-github",
        "colab_type": "text"
      },
      "source": [
        "<a href=\"https://colab.research.google.com/github/sese11225/Class-201-/blob/main/Project_3.ipynb\" target=\"_parent\"><img src=\"https://colab.research.google.com/assets/colab-badge.svg\" alt=\"Open In Colab\"/></a>"
      ]
    },
    {
      "cell_type": "markdown",
      "source": [
        "PROJECT #3 CLASS 201.\n",
        "\n",
        "---\n",
        "\n",
        "\n",
        "RESTAURANT INSPECTION"
      ],
      "metadata": {
        "id": "Hkwm67UxGtuO"
      }
    },
    {
      "cell_type": "code",
      "execution_count": 3,
      "metadata": {
        "id": "iNNputJW48f0"
      },
      "outputs": [],
      "source": [
        "import pandas as pd\n",
        "import numpy as np\n",
        "from numpy.random import randn\n",
        "np.random.seed(123)\n",
        "import seaborn as sns\n",
        "%matplotlib inline"
      ]
    },
    {
      "cell_type": "markdown",
      "source": [
        "DATA OF DOHMH NYC"
      ],
      "metadata": {
        "id": "NDBf6dJcHGO9"
      }
    },
    {
      "cell_type": "code",
      "source": [
        "#Department of Health & Mental Hygiene of New York City\n"
      ],
      "metadata": {
        "id": "EUiIqBHibfig"
      },
      "execution_count": 4,
      "outputs": []
    },
    {
      "cell_type": "code",
      "source": [
        "df= pd.read_csv('/content/DOHMH_New_York_City_Restaurant_Inspection_Results.csv')"
      ],
      "metadata": {
        "id": "hqLeacQb9kCc"
      },
      "execution_count": 5,
      "outputs": []
    },
    {
      "cell_type": "code",
      "source": [
        "df.head()"
      ],
      "metadata": {
        "colab": {
          "base_uri": "https://localhost:8080/",
          "height": 652
        },
        "id": "5HQXaXe292jh",
        "outputId": "9b79d21e-9702-48f7-f111-bfd105541d74"
      },
      "execution_count": 6,
      "outputs": [
        {
          "output_type": "execute_result",
          "data": {
            "text/html": [
              "\n",
              "  <div id=\"df-bef16626-ffe1-4032-a418-5ef6dcb9626f\">\n",
              "    <div class=\"colab-df-container\">\n",
              "      <div>\n",
              "<style scoped>\n",
              "    .dataframe tbody tr th:only-of-type {\n",
              "        vertical-align: middle;\n",
              "    }\n",
              "\n",
              "    .dataframe tbody tr th {\n",
              "        vertical-align: top;\n",
              "    }\n",
              "\n",
              "    .dataframe thead th {\n",
              "        text-align: right;\n",
              "    }\n",
              "</style>\n",
              "<table border=\"1\" class=\"dataframe\">\n",
              "  <thead>\n",
              "    <tr style=\"text-align: right;\">\n",
              "      <th></th>\n",
              "      <th>CAMIS</th>\n",
              "      <th>DBA</th>\n",
              "      <th>BORO</th>\n",
              "      <th>BUILDING</th>\n",
              "      <th>STREET</th>\n",
              "      <th>ZIPCODE</th>\n",
              "      <th>PHONE</th>\n",
              "      <th>CUISINE DESCRIPTION</th>\n",
              "      <th>INSPECTION DATE</th>\n",
              "      <th>ACTION</th>\n",
              "      <th>VIOLATION CODE</th>\n",
              "      <th>VIOLATION DESCRIPTION</th>\n",
              "      <th>CRITICAL FLAG</th>\n",
              "      <th>SCORE</th>\n",
              "      <th>GRADE</th>\n",
              "      <th>GRADE DATE</th>\n",
              "      <th>RECORD DATE</th>\n",
              "      <th>INSPECTION TYPE</th>\n",
              "      <th>Latitude</th>\n",
              "      <th>Longitude</th>\n",
              "      <th>Community Board</th>\n",
              "      <th>Council District</th>\n",
              "      <th>Census Tract</th>\n",
              "      <th>BIN</th>\n",
              "      <th>BBL</th>\n",
              "      <th>NTA</th>\n",
              "    </tr>\n",
              "  </thead>\n",
              "  <tbody>\n",
              "    <tr>\n",
              "      <th>0</th>\n",
              "      <td>41716632</td>\n",
              "      <td>PATSY'S PIZZERIA</td>\n",
              "      <td>Queens</td>\n",
              "      <td>2164</td>\n",
              "      <td>UTOPIA PARKWAY</td>\n",
              "      <td>11357.0</td>\n",
              "      <td>7182240200</td>\n",
              "      <td>Italian</td>\n",
              "      <td>12/06/2018</td>\n",
              "      <td>Violations were cited in the following area(s).</td>\n",
              "      <td>10F</td>\n",
              "      <td>Non-food contact surface improperly constructe...</td>\n",
              "      <td>Not Critical</td>\n",
              "      <td>9.0</td>\n",
              "      <td>A</td>\n",
              "      <td>12/06/2018</td>\n",
              "      <td>01/12/2022</td>\n",
              "      <td>Cycle Inspection / Initial Inspection</td>\n",
              "      <td>40.777406</td>\n",
              "      <td>-73.793437</td>\n",
              "      <td>407.0</td>\n",
              "      <td>19.0</td>\n",
              "      <td>101700.0</td>\n",
              "      <td>4129316.0</td>\n",
              "      <td>4.057640e+09</td>\n",
              "      <td>QN47</td>\n",
              "    </tr>\n",
              "    <tr>\n",
              "      <th>1</th>\n",
              "      <td>41716632</td>\n",
              "      <td>PATSY'S PIZZERIA</td>\n",
              "      <td>Queens</td>\n",
              "      <td>2164</td>\n",
              "      <td>UTOPIA PARKWAY</td>\n",
              "      <td>11357.0</td>\n",
              "      <td>7182240200</td>\n",
              "      <td>Italian</td>\n",
              "      <td>12/06/2018</td>\n",
              "      <td>Violations were cited in the following area(s).</td>\n",
              "      <td>10F</td>\n",
              "      <td>Non-food contact surface improperly constructe...</td>\n",
              "      <td>Not Critical</td>\n",
              "      <td>9.0</td>\n",
              "      <td>A</td>\n",
              "      <td>12/06/2018</td>\n",
              "      <td>01/12/2022</td>\n",
              "      <td>Cycle Inspection / Initial Inspection</td>\n",
              "      <td>40.777406</td>\n",
              "      <td>-73.793437</td>\n",
              "      <td>407.0</td>\n",
              "      <td>19.0</td>\n",
              "      <td>101700.0</td>\n",
              "      <td>4129316.0</td>\n",
              "      <td>4.057640e+09</td>\n",
              "      <td>QN47</td>\n",
              "    </tr>\n",
              "    <tr>\n",
              "      <th>2</th>\n",
              "      <td>50072413</td>\n",
              "      <td>Grand Slam</td>\n",
              "      <td>Queens</td>\n",
              "      <td>13101</td>\n",
              "      <td>FOWLER AVE</td>\n",
              "      <td>11355.0</td>\n",
              "      <td>9176810062</td>\n",
              "      <td>Chinese</td>\n",
              "      <td>06/19/2019</td>\n",
              "      <td>Violations were cited in the following area(s).</td>\n",
              "      <td>10H</td>\n",
              "      <td>Proper sanitization not provided for utensil w...</td>\n",
              "      <td>Not Critical</td>\n",
              "      <td>40.0</td>\n",
              "      <td>N</td>\n",
              "      <td>NaN</td>\n",
              "      <td>01/12/2022</td>\n",
              "      <td>Pre-permit (Operational) / Initial Inspection</td>\n",
              "      <td>40.751824</td>\n",
              "      <td>-73.832999</td>\n",
              "      <td>407.0</td>\n",
              "      <td>20.0</td>\n",
              "      <td>84900.0</td>\n",
              "      <td>4538636.0</td>\n",
              "      <td>4.050760e+09</td>\n",
              "      <td>QN22</td>\n",
              "    </tr>\n",
              "    <tr>\n",
              "      <th>3</th>\n",
              "      <td>50070493</td>\n",
              "      <td>TIAN SHUN RESTAURANT</td>\n",
              "      <td>Brooklyn</td>\n",
              "      <td>5816</td>\n",
              "      <td>8 AVENUE</td>\n",
              "      <td>11220.0</td>\n",
              "      <td>7184393453</td>\n",
              "      <td>Chinese</td>\n",
              "      <td>07/11/2019</td>\n",
              "      <td>Violations were cited in the following area(s).</td>\n",
              "      <td>04M</td>\n",
              "      <td>Live roaches present in facility's food and/or...</td>\n",
              "      <td>Critical</td>\n",
              "      <td>22.0</td>\n",
              "      <td>B</td>\n",
              "      <td>07/11/2019</td>\n",
              "      <td>01/12/2022</td>\n",
              "      <td>Cycle Inspection / Re-inspection</td>\n",
              "      <td>40.636486</td>\n",
              "      <td>-74.008539</td>\n",
              "      <td>307.0</td>\n",
              "      <td>38.0</td>\n",
              "      <td>10400.0</td>\n",
              "      <td>3016214.0</td>\n",
              "      <td>3.008580e+09</td>\n",
              "      <td>BK34</td>\n",
              "    </tr>\n",
              "    <tr>\n",
              "      <th>4</th>\n",
              "      <td>50114577</td>\n",
              "      <td>Chunky bites LLC</td>\n",
              "      <td>Queens</td>\n",
              "      <td>6014</td>\n",
              "      <td>FRESH POND RD</td>\n",
              "      <td>11378.0</td>\n",
              "      <td>3472733447</td>\n",
              "      <td>NaN</td>\n",
              "      <td>01/01/1900</td>\n",
              "      <td>NaN</td>\n",
              "      <td>NaN</td>\n",
              "      <td>NaN</td>\n",
              "      <td>Not Applicable</td>\n",
              "      <td>NaN</td>\n",
              "      <td>NaN</td>\n",
              "      <td>NaN</td>\n",
              "      <td>01/12/2022</td>\n",
              "      <td>NaN</td>\n",
              "      <td>40.716581</td>\n",
              "      <td>-73.901721</td>\n",
              "      <td>405.0</td>\n",
              "      <td>30.0</td>\n",
              "      <td>59900.0</td>\n",
              "      <td>4061271.0</td>\n",
              "      <td>4.027430e+09</td>\n",
              "      <td>QN30</td>\n",
              "    </tr>\n",
              "  </tbody>\n",
              "</table>\n",
              "</div>\n",
              "      <button class=\"colab-df-convert\" onclick=\"convertToInteractive('df-bef16626-ffe1-4032-a418-5ef6dcb9626f')\"\n",
              "              title=\"Convert this dataframe to an interactive table.\"\n",
              "              style=\"display:none;\">\n",
              "        \n",
              "  <svg xmlns=\"http://www.w3.org/2000/svg\" height=\"24px\"viewBox=\"0 0 24 24\"\n",
              "       width=\"24px\">\n",
              "    <path d=\"M0 0h24v24H0V0z\" fill=\"none\"/>\n",
              "    <path d=\"M18.56 5.44l.94 2.06.94-2.06 2.06-.94-2.06-.94-.94-2.06-.94 2.06-2.06.94zm-11 1L8.5 8.5l.94-2.06 2.06-.94-2.06-.94L8.5 2.5l-.94 2.06-2.06.94zm10 10l.94 2.06.94-2.06 2.06-.94-2.06-.94-.94-2.06-.94 2.06-2.06.94z\"/><path d=\"M17.41 7.96l-1.37-1.37c-.4-.4-.92-.59-1.43-.59-.52 0-1.04.2-1.43.59L10.3 9.45l-7.72 7.72c-.78.78-.78 2.05 0 2.83L4 21.41c.39.39.9.59 1.41.59.51 0 1.02-.2 1.41-.59l7.78-7.78 2.81-2.81c.8-.78.8-2.07 0-2.86zM5.41 20L4 18.59l7.72-7.72 1.47 1.35L5.41 20z\"/>\n",
              "  </svg>\n",
              "      </button>\n",
              "      \n",
              "  <style>\n",
              "    .colab-df-container {\n",
              "      display:flex;\n",
              "      flex-wrap:wrap;\n",
              "      gap: 12px;\n",
              "    }\n",
              "\n",
              "    .colab-df-convert {\n",
              "      background-color: #E8F0FE;\n",
              "      border: none;\n",
              "      border-radius: 50%;\n",
              "      cursor: pointer;\n",
              "      display: none;\n",
              "      fill: #1967D2;\n",
              "      height: 32px;\n",
              "      padding: 0 0 0 0;\n",
              "      width: 32px;\n",
              "    }\n",
              "\n",
              "    .colab-df-convert:hover {\n",
              "      background-color: #E2EBFA;\n",
              "      box-shadow: 0px 1px 2px rgba(60, 64, 67, 0.3), 0px 1px 3px 1px rgba(60, 64, 67, 0.15);\n",
              "      fill: #174EA6;\n",
              "    }\n",
              "\n",
              "    [theme=dark] .colab-df-convert {\n",
              "      background-color: #3B4455;\n",
              "      fill: #D2E3FC;\n",
              "    }\n",
              "\n",
              "    [theme=dark] .colab-df-convert:hover {\n",
              "      background-color: #434B5C;\n",
              "      box-shadow: 0px 1px 3px 1px rgba(0, 0, 0, 0.15);\n",
              "      filter: drop-shadow(0px 1px 2px rgba(0, 0, 0, 0.3));\n",
              "      fill: #FFFFFF;\n",
              "    }\n",
              "  </style>\n",
              "\n",
              "      <script>\n",
              "        const buttonEl =\n",
              "          document.querySelector('#df-bef16626-ffe1-4032-a418-5ef6dcb9626f button.colab-df-convert');\n",
              "        buttonEl.style.display =\n",
              "          google.colab.kernel.accessAllowed ? 'block' : 'none';\n",
              "\n",
              "        async function convertToInteractive(key) {\n",
              "          const element = document.querySelector('#df-bef16626-ffe1-4032-a418-5ef6dcb9626f');\n",
              "          const dataTable =\n",
              "            await google.colab.kernel.invokeFunction('convertToInteractive',\n",
              "                                                     [key], {});\n",
              "          if (!dataTable) return;\n",
              "\n",
              "          const docLinkHtml = 'Like what you see? Visit the ' +\n",
              "            '<a target=\"_blank\" href=https://colab.research.google.com/notebooks/data_table.ipynb>data table notebook</a>'\n",
              "            + ' to learn more about interactive tables.';\n",
              "          element.innerHTML = '';\n",
              "          dataTable['output_type'] = 'display_data';\n",
              "          await google.colab.output.renderOutput(dataTable, element);\n",
              "          const docLink = document.createElement('div');\n",
              "          docLink.innerHTML = docLinkHtml;\n",
              "          element.appendChild(docLink);\n",
              "        }\n",
              "      </script>\n",
              "    </div>\n",
              "  </div>\n",
              "  "
            ],
            "text/plain": [
              "      CAMIS                   DBA      BORO  ...        BIN           BBL   NTA\n",
              "0  41716632      PATSY'S PIZZERIA    Queens  ...  4129316.0  4.057640e+09  QN47\n",
              "1  41716632      PATSY'S PIZZERIA    Queens  ...  4129316.0  4.057640e+09  QN47\n",
              "2  50072413            Grand Slam    Queens  ...  4538636.0  4.050760e+09  QN22\n",
              "3  50070493  TIAN SHUN RESTAURANT  Brooklyn  ...  3016214.0  3.008580e+09  BK34\n",
              "4  50114577      Chunky bites LLC    Queens  ...  4061271.0  4.027430e+09  QN30\n",
              "\n",
              "[5 rows x 26 columns]"
            ]
          },
          "metadata": {},
          "execution_count": 6
        }
      ]
    },
    {
      "cell_type": "code",
      "source": [
        "df.tail()"
      ],
      "metadata": {
        "colab": {
          "base_uri": "https://localhost:8080/",
          "height": 721
        },
        "id": "Hh-PibiN-S_S",
        "outputId": "fcb103a5-d147-4fac-89bc-8305d6a9e482"
      },
      "execution_count": 7,
      "outputs": [
        {
          "output_type": "execute_result",
          "data": {
            "text/html": [
              "\n",
              "  <div id=\"df-2d63da95-2cdd-47a2-bed5-48971af02e68\">\n",
              "    <div class=\"colab-df-container\">\n",
              "      <div>\n",
              "<style scoped>\n",
              "    .dataframe tbody tr th:only-of-type {\n",
              "        vertical-align: middle;\n",
              "    }\n",
              "\n",
              "    .dataframe tbody tr th {\n",
              "        vertical-align: top;\n",
              "    }\n",
              "\n",
              "    .dataframe thead th {\n",
              "        text-align: right;\n",
              "    }\n",
              "</style>\n",
              "<table border=\"1\" class=\"dataframe\">\n",
              "  <thead>\n",
              "    <tr style=\"text-align: right;\">\n",
              "      <th></th>\n",
              "      <th>CAMIS</th>\n",
              "      <th>DBA</th>\n",
              "      <th>BORO</th>\n",
              "      <th>BUILDING</th>\n",
              "      <th>STREET</th>\n",
              "      <th>ZIPCODE</th>\n",
              "      <th>PHONE</th>\n",
              "      <th>CUISINE DESCRIPTION</th>\n",
              "      <th>INSPECTION DATE</th>\n",
              "      <th>ACTION</th>\n",
              "      <th>VIOLATION CODE</th>\n",
              "      <th>VIOLATION DESCRIPTION</th>\n",
              "      <th>CRITICAL FLAG</th>\n",
              "      <th>SCORE</th>\n",
              "      <th>GRADE</th>\n",
              "      <th>GRADE DATE</th>\n",
              "      <th>RECORD DATE</th>\n",
              "      <th>INSPECTION TYPE</th>\n",
              "      <th>Latitude</th>\n",
              "      <th>Longitude</th>\n",
              "      <th>Community Board</th>\n",
              "      <th>Council District</th>\n",
              "      <th>Census Tract</th>\n",
              "      <th>BIN</th>\n",
              "      <th>BBL</th>\n",
              "      <th>NTA</th>\n",
              "    </tr>\n",
              "  </thead>\n",
              "  <tbody>\n",
              "    <tr>\n",
              "      <th>381497</th>\n",
              "      <td>50074603</td>\n",
              "      <td>CHICK-FIL-A</td>\n",
              "      <td>Manhattan</td>\n",
              "      <td>144</td>\n",
              "      <td>FULTON STREET</td>\n",
              "      <td>10038.0</td>\n",
              "      <td>6468697304</td>\n",
              "      <td>Chicken</td>\n",
              "      <td>05/02/2019</td>\n",
              "      <td>Violations were cited in the following area(s).</td>\n",
              "      <td>06A</td>\n",
              "      <td>Personal cleanliness inadequate. Outer garment...</td>\n",
              "      <td>Critical</td>\n",
              "      <td>8.0</td>\n",
              "      <td>A</td>\n",
              "      <td>05/02/2019</td>\n",
              "      <td>01/12/2022</td>\n",
              "      <td>Cycle Inspection / Initial Inspection</td>\n",
              "      <td>40.710570</td>\n",
              "      <td>-74.008466</td>\n",
              "      <td>101.0</td>\n",
              "      <td>1.0</td>\n",
              "      <td>1502.0</td>\n",
              "      <td>1001223.0</td>\n",
              "      <td>1.000790e+09</td>\n",
              "      <td>MN25</td>\n",
              "    </tr>\n",
              "    <tr>\n",
              "      <th>381498</th>\n",
              "      <td>50004089</td>\n",
              "      <td>ECLAIR BAKERY</td>\n",
              "      <td>Manhattan</td>\n",
              "      <td>305</td>\n",
              "      <td>EAST   53 STREET</td>\n",
              "      <td>10022.0</td>\n",
              "      <td>2127592253</td>\n",
              "      <td>Bakery Products/Desserts</td>\n",
              "      <td>09/27/2019</td>\n",
              "      <td>Violations were cited in the following area(s).</td>\n",
              "      <td>06C</td>\n",
              "      <td>Food not protected from potential source of co...</td>\n",
              "      <td>Critical</td>\n",
              "      <td>9.0</td>\n",
              "      <td>A</td>\n",
              "      <td>09/27/2019</td>\n",
              "      <td>01/12/2022</td>\n",
              "      <td>Cycle Inspection / Initial Inspection</td>\n",
              "      <td>40.756584</td>\n",
              "      <td>-73.966724</td>\n",
              "      <td>106.0</td>\n",
              "      <td>4.0</td>\n",
              "      <td>9800.0</td>\n",
              "      <td>1085117.0</td>\n",
              "      <td>1.013460e+09</td>\n",
              "      <td>MN19</td>\n",
              "    </tr>\n",
              "    <tr>\n",
              "      <th>381499</th>\n",
              "      <td>41012277</td>\n",
              "      <td>CHEZ MACOULE RESTAURANT</td>\n",
              "      <td>Brooklyn</td>\n",
              "      <td>1115</td>\n",
              "      <td>ROGERS AVENUE</td>\n",
              "      <td>11226.0</td>\n",
              "      <td>3473004481</td>\n",
              "      <td>Creole</td>\n",
              "      <td>02/08/2017</td>\n",
              "      <td>Violations were cited in the following area(s).</td>\n",
              "      <td>06C</td>\n",
              "      <td>Food not protected from potential source of co...</td>\n",
              "      <td>Critical</td>\n",
              "      <td>19.0</td>\n",
              "      <td>NaN</td>\n",
              "      <td>NaN</td>\n",
              "      <td>01/12/2022</td>\n",
              "      <td>Cycle Inspection / Initial Inspection</td>\n",
              "      <td>40.642561</td>\n",
              "      <td>-73.951585</td>\n",
              "      <td>317.0</td>\n",
              "      <td>45.0</td>\n",
              "      <td>82800.0</td>\n",
              "      <td>3119962.0</td>\n",
              "      <td>3.051930e+09</td>\n",
              "      <td>BK95</td>\n",
              "    </tr>\n",
              "    <tr>\n",
              "      <th>381500</th>\n",
              "      <td>41396810</td>\n",
              "      <td>PEACEFOOD</td>\n",
              "      <td>Manhattan</td>\n",
              "      <td>460</td>\n",
              "      <td>AMSTERDAM AVENUE</td>\n",
              "      <td>10024.0</td>\n",
              "      <td>2123622266</td>\n",
              "      <td>Vegan</td>\n",
              "      <td>03/22/2017</td>\n",
              "      <td>Violations were cited in the following area(s).</td>\n",
              "      <td>04A</td>\n",
              "      <td>Food Protection Certificate not held by superv...</td>\n",
              "      <td>Critical</td>\n",
              "      <td>10.0</td>\n",
              "      <td>NaN</td>\n",
              "      <td>NaN</td>\n",
              "      <td>01/12/2022</td>\n",
              "      <td>Cycle Inspection / Initial Inspection</td>\n",
              "      <td>40.785234</td>\n",
              "      <td>-73.976810</td>\n",
              "      <td>107.0</td>\n",
              "      <td>6.0</td>\n",
              "      <td>17100.0</td>\n",
              "      <td>1032759.0</td>\n",
              "      <td>1.012300e+09</td>\n",
              "      <td>MN12</td>\n",
              "    </tr>\n",
              "    <tr>\n",
              "      <th>381501</th>\n",
              "      <td>50087832</td>\n",
              "      <td>BELLA PIZZA COFFEE BAR</td>\n",
              "      <td>Queens</td>\n",
              "      <td>4006</td>\n",
              "      <td>JUNCTION BLVD</td>\n",
              "      <td>11368.0</td>\n",
              "      <td>9292080065</td>\n",
              "      <td>Pizza</td>\n",
              "      <td>05/30/2019</td>\n",
              "      <td>Violations were cited in the following area(s).</td>\n",
              "      <td>08C</td>\n",
              "      <td>Pesticide use not in accordance with label or ...</td>\n",
              "      <td>Not Critical</td>\n",
              "      <td>13.0</td>\n",
              "      <td>A</td>\n",
              "      <td>05/30/2019</td>\n",
              "      <td>01/12/2022</td>\n",
              "      <td>Pre-permit (Operational) / Re-inspection</td>\n",
              "      <td>40.748986</td>\n",
              "      <td>-73.869339</td>\n",
              "      <td>404.0</td>\n",
              "      <td>21.0</td>\n",
              "      <td>46500.0</td>\n",
              "      <td>4039789.0</td>\n",
              "      <td>4.015940e+09</td>\n",
              "      <td>QN29</td>\n",
              "    </tr>\n",
              "  </tbody>\n",
              "</table>\n",
              "</div>\n",
              "      <button class=\"colab-df-convert\" onclick=\"convertToInteractive('df-2d63da95-2cdd-47a2-bed5-48971af02e68')\"\n",
              "              title=\"Convert this dataframe to an interactive table.\"\n",
              "              style=\"display:none;\">\n",
              "        \n",
              "  <svg xmlns=\"http://www.w3.org/2000/svg\" height=\"24px\"viewBox=\"0 0 24 24\"\n",
              "       width=\"24px\">\n",
              "    <path d=\"M0 0h24v24H0V0z\" fill=\"none\"/>\n",
              "    <path d=\"M18.56 5.44l.94 2.06.94-2.06 2.06-.94-2.06-.94-.94-2.06-.94 2.06-2.06.94zm-11 1L8.5 8.5l.94-2.06 2.06-.94-2.06-.94L8.5 2.5l-.94 2.06-2.06.94zm10 10l.94 2.06.94-2.06 2.06-.94-2.06-.94-.94-2.06-.94 2.06-2.06.94z\"/><path d=\"M17.41 7.96l-1.37-1.37c-.4-.4-.92-.59-1.43-.59-.52 0-1.04.2-1.43.59L10.3 9.45l-7.72 7.72c-.78.78-.78 2.05 0 2.83L4 21.41c.39.39.9.59 1.41.59.51 0 1.02-.2 1.41-.59l7.78-7.78 2.81-2.81c.8-.78.8-2.07 0-2.86zM5.41 20L4 18.59l7.72-7.72 1.47 1.35L5.41 20z\"/>\n",
              "  </svg>\n",
              "      </button>\n",
              "      \n",
              "  <style>\n",
              "    .colab-df-container {\n",
              "      display:flex;\n",
              "      flex-wrap:wrap;\n",
              "      gap: 12px;\n",
              "    }\n",
              "\n",
              "    .colab-df-convert {\n",
              "      background-color: #E8F0FE;\n",
              "      border: none;\n",
              "      border-radius: 50%;\n",
              "      cursor: pointer;\n",
              "      display: none;\n",
              "      fill: #1967D2;\n",
              "      height: 32px;\n",
              "      padding: 0 0 0 0;\n",
              "      width: 32px;\n",
              "    }\n",
              "\n",
              "    .colab-df-convert:hover {\n",
              "      background-color: #E2EBFA;\n",
              "      box-shadow: 0px 1px 2px rgba(60, 64, 67, 0.3), 0px 1px 3px 1px rgba(60, 64, 67, 0.15);\n",
              "      fill: #174EA6;\n",
              "    }\n",
              "\n",
              "    [theme=dark] .colab-df-convert {\n",
              "      background-color: #3B4455;\n",
              "      fill: #D2E3FC;\n",
              "    }\n",
              "\n",
              "    [theme=dark] .colab-df-convert:hover {\n",
              "      background-color: #434B5C;\n",
              "      box-shadow: 0px 1px 3px 1px rgba(0, 0, 0, 0.15);\n",
              "      filter: drop-shadow(0px 1px 2px rgba(0, 0, 0, 0.3));\n",
              "      fill: #FFFFFF;\n",
              "    }\n",
              "  </style>\n",
              "\n",
              "      <script>\n",
              "        const buttonEl =\n",
              "          document.querySelector('#df-2d63da95-2cdd-47a2-bed5-48971af02e68 button.colab-df-convert');\n",
              "        buttonEl.style.display =\n",
              "          google.colab.kernel.accessAllowed ? 'block' : 'none';\n",
              "\n",
              "        async function convertToInteractive(key) {\n",
              "          const element = document.querySelector('#df-2d63da95-2cdd-47a2-bed5-48971af02e68');\n",
              "          const dataTable =\n",
              "            await google.colab.kernel.invokeFunction('convertToInteractive',\n",
              "                                                     [key], {});\n",
              "          if (!dataTable) return;\n",
              "\n",
              "          const docLinkHtml = 'Like what you see? Visit the ' +\n",
              "            '<a target=\"_blank\" href=https://colab.research.google.com/notebooks/data_table.ipynb>data table notebook</a>'\n",
              "            + ' to learn more about interactive tables.';\n",
              "          element.innerHTML = '';\n",
              "          dataTable['output_type'] = 'display_data';\n",
              "          await google.colab.output.renderOutput(dataTable, element);\n",
              "          const docLink = document.createElement('div');\n",
              "          docLink.innerHTML = docLinkHtml;\n",
              "          element.appendChild(docLink);\n",
              "        }\n",
              "      </script>\n",
              "    </div>\n",
              "  </div>\n",
              "  "
            ],
            "text/plain": [
              "           CAMIS                      DBA  ...           BBL   NTA\n",
              "381497  50074603              CHICK-FIL-A  ...  1.000790e+09  MN25\n",
              "381498  50004089            ECLAIR BAKERY  ...  1.013460e+09  MN19\n",
              "381499  41012277  CHEZ MACOULE RESTAURANT  ...  3.051930e+09  BK95\n",
              "381500  41396810                PEACEFOOD  ...  1.012300e+09  MN12\n",
              "381501  50087832   BELLA PIZZA COFFEE BAR  ...  4.015940e+09  QN29\n",
              "\n",
              "[5 rows x 26 columns]"
            ]
          },
          "metadata": {},
          "execution_count": 7
        }
      ]
    },
    {
      "cell_type": "markdown",
      "source": [
        "STATISTICAL ANALYSIS"
      ],
      "metadata": {
        "id": "ZwmjaaSzHinv"
      }
    },
    {
      "cell_type": "code",
      "source": [
        "#Data of restaurant inspection.Included parameters as influence buy and eat food,\n",
        "# alergy and intolerance, nutrition and more"
      ],
      "metadata": {
        "id": "m3poQp3VcF3H"
      },
      "execution_count": 8,
      "outputs": []
    },
    {
      "cell_type": "code",
      "source": [
        "df.describe()"
      ],
      "metadata": {
        "colab": {
          "base_uri": "https://localhost:8080/",
          "height": 381
        },
        "id": "yQuuH2IF-kAD",
        "outputId": "4f9745f6-523f-449e-cd6b-f4c609d7bc5d"
      },
      "execution_count": 9,
      "outputs": [
        {
          "output_type": "execute_result",
          "data": {
            "text/html": [
              "\n",
              "  <div id=\"df-27fe4716-b26c-4aaf-82f0-86ca3e28261c\">\n",
              "    <div class=\"colab-df-container\">\n",
              "      <div>\n",
              "<style scoped>\n",
              "    .dataframe tbody tr th:only-of-type {\n",
              "        vertical-align: middle;\n",
              "    }\n",
              "\n",
              "    .dataframe tbody tr th {\n",
              "        vertical-align: top;\n",
              "    }\n",
              "\n",
              "    .dataframe thead th {\n",
              "        text-align: right;\n",
              "    }\n",
              "</style>\n",
              "<table border=\"1\" class=\"dataframe\">\n",
              "  <thead>\n",
              "    <tr style=\"text-align: right;\">\n",
              "      <th></th>\n",
              "      <th>CAMIS</th>\n",
              "      <th>ZIPCODE</th>\n",
              "      <th>SCORE</th>\n",
              "      <th>Latitude</th>\n",
              "      <th>Longitude</th>\n",
              "      <th>Community Board</th>\n",
              "      <th>Council District</th>\n",
              "      <th>Census Tract</th>\n",
              "      <th>BIN</th>\n",
              "      <th>BBL</th>\n",
              "    </tr>\n",
              "  </thead>\n",
              "  <tbody>\n",
              "    <tr>\n",
              "      <th>count</th>\n",
              "      <td>3.815020e+05</td>\n",
              "      <td>375901.000000</td>\n",
              "      <td>364303.000000</td>\n",
              "      <td>381136.000000</td>\n",
              "      <td>381136.000000</td>\n",
              "      <td>374994.000000</td>\n",
              "      <td>374994.000000</td>\n",
              "      <td>374994.000000</td>\n",
              "      <td>3.732310e+05</td>\n",
              "      <td>3.805830e+05</td>\n",
              "    </tr>\n",
              "    <tr>\n",
              "      <th>mean</th>\n",
              "      <td>4.653485e+07</td>\n",
              "      <td>10682.566450</td>\n",
              "      <td>20.494525</td>\n",
              "      <td>40.132292</td>\n",
              "      <td>-72.857817</td>\n",
              "      <td>248.781063</td>\n",
              "      <td>19.999296</td>\n",
              "      <td>28888.480589</td>\n",
              "      <td>2.513340e+06</td>\n",
              "      <td>2.403608e+09</td>\n",
              "    </tr>\n",
              "    <tr>\n",
              "      <th>std</th>\n",
              "      <td>4.335262e+06</td>\n",
              "      <td>601.882415</td>\n",
              "      <td>15.075019</td>\n",
              "      <td>4.896327</td>\n",
              "      <td>8.888460</td>\n",
              "      <td>130.194669</td>\n",
              "      <td>15.696213</td>\n",
              "      <td>30523.100551</td>\n",
              "      <td>1.346311e+06</td>\n",
              "      <td>1.339255e+09</td>\n",
              "    </tr>\n",
              "    <tr>\n",
              "      <th>min</th>\n",
              "      <td>3.007544e+07</td>\n",
              "      <td>10000.000000</td>\n",
              "      <td>0.000000</td>\n",
              "      <td>0.000000</td>\n",
              "      <td>-74.249101</td>\n",
              "      <td>101.000000</td>\n",
              "      <td>1.000000</td>\n",
              "      <td>100.000000</td>\n",
              "      <td>1.000000e+06</td>\n",
              "      <td>1.000000e+00</td>\n",
              "    </tr>\n",
              "    <tr>\n",
              "      <th>25%</th>\n",
              "      <td>4.146228e+07</td>\n",
              "      <td>10022.000000</td>\n",
              "      <td>11.000000</td>\n",
              "      <td>40.686474</td>\n",
              "      <td>-73.988776</td>\n",
              "      <td>105.000000</td>\n",
              "      <td>4.000000</td>\n",
              "      <td>8000.000000</td>\n",
              "      <td>1.044211e+06</td>\n",
              "      <td>1.010480e+09</td>\n",
              "    </tr>\n",
              "    <tr>\n",
              "      <th>50%</th>\n",
              "      <td>5.001548e+07</td>\n",
              "      <td>10469.000000</td>\n",
              "      <td>15.000000</td>\n",
              "      <td>40.733025</td>\n",
              "      <td>-73.957205</td>\n",
              "      <td>301.000000</td>\n",
              "      <td>20.000000</td>\n",
              "      <td>16500.000000</td>\n",
              "      <td>3.008255e+06</td>\n",
              "      <td>3.001830e+09</td>\n",
              "    </tr>\n",
              "    <tr>\n",
              "      <th>75%</th>\n",
              "      <td>5.006611e+07</td>\n",
              "      <td>11229.000000</td>\n",
              "      <td>26.000000</td>\n",
              "      <td>40.762150</td>\n",
              "      <td>-73.897421</td>\n",
              "      <td>401.000000</td>\n",
              "      <td>34.000000</td>\n",
              "      <td>40500.000000</td>\n",
              "      <td>4.002405e+06</td>\n",
              "      <td>4.001650e+09</td>\n",
              "    </tr>\n",
              "    <tr>\n",
              "      <th>max</th>\n",
              "      <td>5.011847e+07</td>\n",
              "      <td>30339.000000</td>\n",
              "      <td>166.000000</td>\n",
              "      <td>40.912822</td>\n",
              "      <td>0.000000</td>\n",
              "      <td>595.000000</td>\n",
              "      <td>51.000000</td>\n",
              "      <td>162100.000000</td>\n",
              "      <td>5.799501e+06</td>\n",
              "      <td>5.270001e+09</td>\n",
              "    </tr>\n",
              "  </tbody>\n",
              "</table>\n",
              "</div>\n",
              "      <button class=\"colab-df-convert\" onclick=\"convertToInteractive('df-27fe4716-b26c-4aaf-82f0-86ca3e28261c')\"\n",
              "              title=\"Convert this dataframe to an interactive table.\"\n",
              "              style=\"display:none;\">\n",
              "        \n",
              "  <svg xmlns=\"http://www.w3.org/2000/svg\" height=\"24px\"viewBox=\"0 0 24 24\"\n",
              "       width=\"24px\">\n",
              "    <path d=\"M0 0h24v24H0V0z\" fill=\"none\"/>\n",
              "    <path d=\"M18.56 5.44l.94 2.06.94-2.06 2.06-.94-2.06-.94-.94-2.06-.94 2.06-2.06.94zm-11 1L8.5 8.5l.94-2.06 2.06-.94-2.06-.94L8.5 2.5l-.94 2.06-2.06.94zm10 10l.94 2.06.94-2.06 2.06-.94-2.06-.94-.94-2.06-.94 2.06-2.06.94z\"/><path d=\"M17.41 7.96l-1.37-1.37c-.4-.4-.92-.59-1.43-.59-.52 0-1.04.2-1.43.59L10.3 9.45l-7.72 7.72c-.78.78-.78 2.05 0 2.83L4 21.41c.39.39.9.59 1.41.59.51 0 1.02-.2 1.41-.59l7.78-7.78 2.81-2.81c.8-.78.8-2.07 0-2.86zM5.41 20L4 18.59l7.72-7.72 1.47 1.35L5.41 20z\"/>\n",
              "  </svg>\n",
              "      </button>\n",
              "      \n",
              "  <style>\n",
              "    .colab-df-container {\n",
              "      display:flex;\n",
              "      flex-wrap:wrap;\n",
              "      gap: 12px;\n",
              "    }\n",
              "\n",
              "    .colab-df-convert {\n",
              "      background-color: #E8F0FE;\n",
              "      border: none;\n",
              "      border-radius: 50%;\n",
              "      cursor: pointer;\n",
              "      display: none;\n",
              "      fill: #1967D2;\n",
              "      height: 32px;\n",
              "      padding: 0 0 0 0;\n",
              "      width: 32px;\n",
              "    }\n",
              "\n",
              "    .colab-df-convert:hover {\n",
              "      background-color: #E2EBFA;\n",
              "      box-shadow: 0px 1px 2px rgba(60, 64, 67, 0.3), 0px 1px 3px 1px rgba(60, 64, 67, 0.15);\n",
              "      fill: #174EA6;\n",
              "    }\n",
              "\n",
              "    [theme=dark] .colab-df-convert {\n",
              "      background-color: #3B4455;\n",
              "      fill: #D2E3FC;\n",
              "    }\n",
              "\n",
              "    [theme=dark] .colab-df-convert:hover {\n",
              "      background-color: #434B5C;\n",
              "      box-shadow: 0px 1px 3px 1px rgba(0, 0, 0, 0.15);\n",
              "      filter: drop-shadow(0px 1px 2px rgba(0, 0, 0, 0.3));\n",
              "      fill: #FFFFFF;\n",
              "    }\n",
              "  </style>\n",
              "\n",
              "      <script>\n",
              "        const buttonEl =\n",
              "          document.querySelector('#df-27fe4716-b26c-4aaf-82f0-86ca3e28261c button.colab-df-convert');\n",
              "        buttonEl.style.display =\n",
              "          google.colab.kernel.accessAllowed ? 'block' : 'none';\n",
              "\n",
              "        async function convertToInteractive(key) {\n",
              "          const element = document.querySelector('#df-27fe4716-b26c-4aaf-82f0-86ca3e28261c');\n",
              "          const dataTable =\n",
              "            await google.colab.kernel.invokeFunction('convertToInteractive',\n",
              "                                                     [key], {});\n",
              "          if (!dataTable) return;\n",
              "\n",
              "          const docLinkHtml = 'Like what you see? Visit the ' +\n",
              "            '<a target=\"_blank\" href=https://colab.research.google.com/notebooks/data_table.ipynb>data table notebook</a>'\n",
              "            + ' to learn more about interactive tables.';\n",
              "          element.innerHTML = '';\n",
              "          dataTable['output_type'] = 'display_data';\n",
              "          await google.colab.output.renderOutput(dataTable, element);\n",
              "          const docLink = document.createElement('div');\n",
              "          docLink.innerHTML = docLinkHtml;\n",
              "          element.appendChild(docLink);\n",
              "        }\n",
              "      </script>\n",
              "    </div>\n",
              "  </div>\n",
              "  "
            ],
            "text/plain": [
              "              CAMIS        ZIPCODE  ...           BIN           BBL\n",
              "count  3.815020e+05  375901.000000  ...  3.732310e+05  3.805830e+05\n",
              "mean   4.653485e+07   10682.566450  ...  2.513340e+06  2.403608e+09\n",
              "std    4.335262e+06     601.882415  ...  1.346311e+06  1.339255e+09\n",
              "min    3.007544e+07   10000.000000  ...  1.000000e+06  1.000000e+00\n",
              "25%    4.146228e+07   10022.000000  ...  1.044211e+06  1.010480e+09\n",
              "50%    5.001548e+07   10469.000000  ...  3.008255e+06  3.001830e+09\n",
              "75%    5.006611e+07   11229.000000  ...  4.002405e+06  4.001650e+09\n",
              "max    5.011847e+07   30339.000000  ...  5.799501e+06  5.270001e+09\n",
              "\n",
              "[8 rows x 10 columns]"
            ]
          },
          "metadata": {},
          "execution_count": 9
        }
      ]
    },
    {
      "cell_type": "markdown",
      "source": [
        "SCORE"
      ],
      "metadata": {
        "id": "GiXNrhmJHzIA"
      }
    },
    {
      "cell_type": "code",
      "source": [
        "#The standard deviation of SCORE between mean and std is 3.08%.[20.49 - 3.08]= 17.41\n",
        "#                                                     [20.49 + 3.08]= 23.57\n",
        "# the std between 17.41 and 23.57 \n",
        "# the perfect is 1 now could infer the score column need better parameters in\n",
        "#some characteristics."
      ],
      "metadata": {
        "id": "i4Aus4SdIfJo"
      },
      "execution_count": 10,
      "outputs": []
    },
    {
      "cell_type": "code",
      "source": [
        "df['SCORE'].describe()"
      ],
      "metadata": {
        "colab": {
          "base_uri": "https://localhost:8080/"
        },
        "id": "jHcQJk6b_IbG",
        "outputId": "2985307e-1fe3-4af3-8b44-602a67bc157e"
      },
      "execution_count": 11,
      "outputs": [
        {
          "output_type": "execute_result",
          "data": {
            "text/plain": [
              "count    364303.000000\n",
              "mean         20.494525\n",
              "std          15.075019\n",
              "min           0.000000\n",
              "25%          11.000000\n",
              "50%          15.000000\n",
              "75%          26.000000\n",
              "max         166.000000\n",
              "Name: SCORE, dtype: float64"
            ]
          },
          "metadata": {},
          "execution_count": 11
        }
      ]
    },
    {
      "cell_type": "code",
      "source": [
        "#The council district representsan inspection by a food safety officer from the business's \n",
        "#local authority as food handle, building conditions, records manage, etc.\n",
        "#it influence in food hygiene ratings"
      ],
      "metadata": {
        "id": "pXxni8e7ZWRJ"
      },
      "execution_count": 12,
      "outputs": []
    },
    {
      "cell_type": "code",
      "source": [
        "df['Council District'].describe()"
      ],
      "metadata": {
        "colab": {
          "base_uri": "https://localhost:8080/"
        },
        "id": "b31NvBxeINa6",
        "outputId": "42483baf-bae3-4f18-b0e4-b694bc017d46"
      },
      "execution_count": 13,
      "outputs": [
        {
          "output_type": "execute_result",
          "data": {
            "text/plain": [
              "count    374994.000000\n",
              "mean         19.999296\n",
              "std          15.696213\n",
              "min           1.000000\n",
              "25%           4.000000\n",
              "50%          20.000000\n",
              "75%          34.000000\n",
              "max          51.000000\n",
              "Name: Council District, dtype: float64"
            ]
          },
          "metadata": {},
          "execution_count": 13
        }
      ]
    },
    {
      "cell_type": "markdown",
      "source": [
        "NUMBER OF COLUMN & ROWS"
      ],
      "metadata": {
        "id": "ayXqncGSKe0H"
      }
    },
    {
      "cell_type": "code",
      "source": [
        "#The two columns help to get the number of rows 381502 and columns 26."
      ],
      "metadata": {
        "id": "JafrmRi-KbFS"
      },
      "execution_count": 14,
      "outputs": []
    },
    {
      "cell_type": "code",
      "source": [
        "df[['SCORE','Council District']]"
      ],
      "metadata": {
        "colab": {
          "base_uri": "https://localhost:8080/",
          "height": 424
        },
        "id": "mV8MFOFEJYlc",
        "outputId": "144d7447-5410-4cd4-ca15-aab5b8ae83cd"
      },
      "execution_count": 15,
      "outputs": [
        {
          "output_type": "execute_result",
          "data": {
            "text/html": [
              "\n",
              "  <div id=\"df-75d7bdff-a329-4666-894d-6ef5a1c3c3fc\">\n",
              "    <div class=\"colab-df-container\">\n",
              "      <div>\n",
              "<style scoped>\n",
              "    .dataframe tbody tr th:only-of-type {\n",
              "        vertical-align: middle;\n",
              "    }\n",
              "\n",
              "    .dataframe tbody tr th {\n",
              "        vertical-align: top;\n",
              "    }\n",
              "\n",
              "    .dataframe thead th {\n",
              "        text-align: right;\n",
              "    }\n",
              "</style>\n",
              "<table border=\"1\" class=\"dataframe\">\n",
              "  <thead>\n",
              "    <tr style=\"text-align: right;\">\n",
              "      <th></th>\n",
              "      <th>SCORE</th>\n",
              "      <th>Council District</th>\n",
              "    </tr>\n",
              "  </thead>\n",
              "  <tbody>\n",
              "    <tr>\n",
              "      <th>0</th>\n",
              "      <td>9.0</td>\n",
              "      <td>19.0</td>\n",
              "    </tr>\n",
              "    <tr>\n",
              "      <th>1</th>\n",
              "      <td>9.0</td>\n",
              "      <td>19.0</td>\n",
              "    </tr>\n",
              "    <tr>\n",
              "      <th>2</th>\n",
              "      <td>40.0</td>\n",
              "      <td>20.0</td>\n",
              "    </tr>\n",
              "    <tr>\n",
              "      <th>3</th>\n",
              "      <td>22.0</td>\n",
              "      <td>38.0</td>\n",
              "    </tr>\n",
              "    <tr>\n",
              "      <th>4</th>\n",
              "      <td>NaN</td>\n",
              "      <td>30.0</td>\n",
              "    </tr>\n",
              "    <tr>\n",
              "      <th>...</th>\n",
              "      <td>...</td>\n",
              "      <td>...</td>\n",
              "    </tr>\n",
              "    <tr>\n",
              "      <th>381497</th>\n",
              "      <td>8.0</td>\n",
              "      <td>1.0</td>\n",
              "    </tr>\n",
              "    <tr>\n",
              "      <th>381498</th>\n",
              "      <td>9.0</td>\n",
              "      <td>4.0</td>\n",
              "    </tr>\n",
              "    <tr>\n",
              "      <th>381499</th>\n",
              "      <td>19.0</td>\n",
              "      <td>45.0</td>\n",
              "    </tr>\n",
              "    <tr>\n",
              "      <th>381500</th>\n",
              "      <td>10.0</td>\n",
              "      <td>6.0</td>\n",
              "    </tr>\n",
              "    <tr>\n",
              "      <th>381501</th>\n",
              "      <td>13.0</td>\n",
              "      <td>21.0</td>\n",
              "    </tr>\n",
              "  </tbody>\n",
              "</table>\n",
              "<p>381502 rows × 2 columns</p>\n",
              "</div>\n",
              "      <button class=\"colab-df-convert\" onclick=\"convertToInteractive('df-75d7bdff-a329-4666-894d-6ef5a1c3c3fc')\"\n",
              "              title=\"Convert this dataframe to an interactive table.\"\n",
              "              style=\"display:none;\">\n",
              "        \n",
              "  <svg xmlns=\"http://www.w3.org/2000/svg\" height=\"24px\"viewBox=\"0 0 24 24\"\n",
              "       width=\"24px\">\n",
              "    <path d=\"M0 0h24v24H0V0z\" fill=\"none\"/>\n",
              "    <path d=\"M18.56 5.44l.94 2.06.94-2.06 2.06-.94-2.06-.94-.94-2.06-.94 2.06-2.06.94zm-11 1L8.5 8.5l.94-2.06 2.06-.94-2.06-.94L8.5 2.5l-.94 2.06-2.06.94zm10 10l.94 2.06.94-2.06 2.06-.94-2.06-.94-.94-2.06-.94 2.06-2.06.94z\"/><path d=\"M17.41 7.96l-1.37-1.37c-.4-.4-.92-.59-1.43-.59-.52 0-1.04.2-1.43.59L10.3 9.45l-7.72 7.72c-.78.78-.78 2.05 0 2.83L4 21.41c.39.39.9.59 1.41.59.51 0 1.02-.2 1.41-.59l7.78-7.78 2.81-2.81c.8-.78.8-2.07 0-2.86zM5.41 20L4 18.59l7.72-7.72 1.47 1.35L5.41 20z\"/>\n",
              "  </svg>\n",
              "      </button>\n",
              "      \n",
              "  <style>\n",
              "    .colab-df-container {\n",
              "      display:flex;\n",
              "      flex-wrap:wrap;\n",
              "      gap: 12px;\n",
              "    }\n",
              "\n",
              "    .colab-df-convert {\n",
              "      background-color: #E8F0FE;\n",
              "      border: none;\n",
              "      border-radius: 50%;\n",
              "      cursor: pointer;\n",
              "      display: none;\n",
              "      fill: #1967D2;\n",
              "      height: 32px;\n",
              "      padding: 0 0 0 0;\n",
              "      width: 32px;\n",
              "    }\n",
              "\n",
              "    .colab-df-convert:hover {\n",
              "      background-color: #E2EBFA;\n",
              "      box-shadow: 0px 1px 2px rgba(60, 64, 67, 0.3), 0px 1px 3px 1px rgba(60, 64, 67, 0.15);\n",
              "      fill: #174EA6;\n",
              "    }\n",
              "\n",
              "    [theme=dark] .colab-df-convert {\n",
              "      background-color: #3B4455;\n",
              "      fill: #D2E3FC;\n",
              "    }\n",
              "\n",
              "    [theme=dark] .colab-df-convert:hover {\n",
              "      background-color: #434B5C;\n",
              "      box-shadow: 0px 1px 3px 1px rgba(0, 0, 0, 0.15);\n",
              "      filter: drop-shadow(0px 1px 2px rgba(0, 0, 0, 0.3));\n",
              "      fill: #FFFFFF;\n",
              "    }\n",
              "  </style>\n",
              "\n",
              "      <script>\n",
              "        const buttonEl =\n",
              "          document.querySelector('#df-75d7bdff-a329-4666-894d-6ef5a1c3c3fc button.colab-df-convert');\n",
              "        buttonEl.style.display =\n",
              "          google.colab.kernel.accessAllowed ? 'block' : 'none';\n",
              "\n",
              "        async function convertToInteractive(key) {\n",
              "          const element = document.querySelector('#df-75d7bdff-a329-4666-894d-6ef5a1c3c3fc');\n",
              "          const dataTable =\n",
              "            await google.colab.kernel.invokeFunction('convertToInteractive',\n",
              "                                                     [key], {});\n",
              "          if (!dataTable) return;\n",
              "\n",
              "          const docLinkHtml = 'Like what you see? Visit the ' +\n",
              "            '<a target=\"_blank\" href=https://colab.research.google.com/notebooks/data_table.ipynb>data table notebook</a>'\n",
              "            + ' to learn more about interactive tables.';\n",
              "          element.innerHTML = '';\n",
              "          dataTable['output_type'] = 'display_data';\n",
              "          await google.colab.output.renderOutput(dataTable, element);\n",
              "          const docLink = document.createElement('div');\n",
              "          docLink.innerHTML = docLinkHtml;\n",
              "          element.appendChild(docLink);\n",
              "        }\n",
              "      </script>\n",
              "    </div>\n",
              "  </div>\n",
              "  "
            ],
            "text/plain": [
              "        SCORE  Council District\n",
              "0         9.0              19.0\n",
              "1         9.0              19.0\n",
              "2        40.0              20.0\n",
              "3        22.0              38.0\n",
              "4         NaN              30.0\n",
              "...       ...               ...\n",
              "381497    8.0               1.0\n",
              "381498    9.0               4.0\n",
              "381499   19.0              45.0\n",
              "381500   10.0               6.0\n",
              "381501   13.0              21.0\n",
              "\n",
              "[381502 rows x 2 columns]"
            ]
          },
          "metadata": {},
          "execution_count": 15
        }
      ]
    },
    {
      "cell_type": "markdown",
      "source": [
        "SHOW NOT NUMERIC DATA "
      ],
      "metadata": {
        "id": "10yiUUpILRcR"
      }
    },
    {
      "cell_type": "code",
      "source": [
        "#The definition of iloc helps to get columns data without numeric values."
      ],
      "metadata": {
        "id": "eli3B_lYL6MI"
      },
      "execution_count": 16,
      "outputs": []
    },
    {
      "cell_type": "code",
      "source": [
        "df.iloc[1]"
      ],
      "metadata": {
        "id": "fzsI0BHUKupa",
        "colab": {
          "base_uri": "https://localhost:8080/"
        },
        "outputId": "e9f0b50a-a059-4611-c16b-c580e2acc354"
      },
      "execution_count": 17,
      "outputs": [
        {
          "output_type": "execute_result",
          "data": {
            "text/plain": [
              "CAMIS                                                             41716632\n",
              "DBA                                                       PATSY'S PIZZERIA\n",
              "BORO                                                                Queens\n",
              "BUILDING                                                              2164\n",
              "STREET                                                      UTOPIA PARKWAY\n",
              "ZIPCODE                                                              11357\n",
              "PHONE                                                           7182240200\n",
              "CUISINE DESCRIPTION                                                Italian\n",
              "INSPECTION DATE                                                 12/06/2018\n",
              "ACTION                     Violations were cited in the following area(s).\n",
              "VIOLATION CODE                                                         10F\n",
              "VIOLATION DESCRIPTION    Non-food contact surface improperly constructe...\n",
              "CRITICAL FLAG                                                 Not Critical\n",
              "SCORE                                                                    9\n",
              "GRADE                                                                    A\n",
              "GRADE DATE                                                      12/06/2018\n",
              "RECORD DATE                                                     01/12/2022\n",
              "INSPECTION TYPE                      Cycle Inspection / Initial Inspection\n",
              "Latitude                                                           40.7774\n",
              "Longitude                                                         -73.7934\n",
              "Community Board                                                        407\n",
              "Council District                                                        19\n",
              "Census Tract                                                        101700\n",
              "BIN                                                            4.12932e+06\n",
              "BBL                                                            4.05764e+09\n",
              "NTA                                                                   QN47\n",
              "Name: 1, dtype: object"
            ]
          },
          "metadata": {},
          "execution_count": 17
        }
      ]
    },
    {
      "cell_type": "code",
      "source": [
        "#Some without numeric data values help define the top, frequence, and uniqueness from the count of the select\n",
        "# column."
      ],
      "metadata": {
        "id": "Ivo2NhSmMSXD"
      },
      "execution_count": 18,
      "outputs": []
    },
    {
      "cell_type": "code",
      "source": [
        "#STREET define restaurant location"
      ],
      "metadata": {
        "id": "h4pqO2-Bermz"
      },
      "execution_count": 19,
      "outputs": []
    },
    {
      "cell_type": "code",
      "source": [
        "df['STREET'].describe()"
      ],
      "metadata": {
        "colab": {
          "base_uri": "https://localhost:8080/"
        },
        "id": "dsRXDkXnMOfe",
        "outputId": "e640d366-b2b2-4be6-f4dc-0b2fa4d8f60e"
      },
      "execution_count": 20,
      "outputs": [
        {
          "output_type": "execute_result",
          "data": {
            "text/plain": [
              "count       381490\n",
              "unique        2481\n",
              "top       BROADWAY\n",
              "freq         13790\n",
              "Name: STREET, dtype: object"
            ]
          },
          "metadata": {},
          "execution_count": 20
        }
      ]
    },
    {
      "cell_type": "code",
      "source": [
        "#Violation description define restaurant inspection"
      ],
      "metadata": {
        "id": "sepoBcXke8JW"
      },
      "execution_count": 21,
      "outputs": []
    },
    {
      "cell_type": "code",
      "source": [
        "df['VIOLATION DESCRIPTION'].describe()"
      ],
      "metadata": {
        "colab": {
          "base_uri": "https://localhost:8080/"
        },
        "id": "MyVgBIm_MnKR",
        "outputId": "dd39959e-9c7b-425e-ce97-f1098e14f517"
      },
      "execution_count": 22,
      "outputs": [
        {
          "output_type": "execute_result",
          "data": {
            "text/plain": [
              "count                                                375579\n",
              "unique                                                  106\n",
              "top       Non-food contact surface improperly constructe...\n",
              "freq                                                  65070\n",
              "Name: VIOLATION DESCRIPTION, dtype: object"
            ]
          },
          "metadata": {},
          "execution_count": 22
        }
      ]
    },
    {
      "cell_type": "code",
      "source": [
        "#BORO define restaurant location"
      ],
      "metadata": {
        "id": "AR7odUwWfhGy"
      },
      "execution_count": 23,
      "outputs": []
    },
    {
      "cell_type": "code",
      "source": [
        "df['BORO'].describe()"
      ],
      "metadata": {
        "colab": {
          "base_uri": "https://localhost:8080/"
        },
        "id": "Wbv6wKaPM94q",
        "outputId": "31427854-a7c4-458a-9842-cb90968aae0b"
      },
      "execution_count": 24,
      "outputs": [
        {
          "output_type": "execute_result",
          "data": {
            "text/plain": [
              "count        381502\n",
              "unique            6\n",
              "top       Manhattan\n",
              "freq         149051\n",
              "Name: BORO, dtype: object"
            ]
          },
          "metadata": {},
          "execution_count": 24
        }
      ]
    },
    {
      "cell_type": "code",
      "source": [
        "#Critical flag it define critical, not critical, not applicable (food-borne illness)"
      ],
      "metadata": {
        "id": "kdat0WtDfrDO"
      },
      "execution_count": 25,
      "outputs": []
    },
    {
      "cell_type": "code",
      "source": [
        "df['CRITICAL FLAG'].describe()"
      ],
      "metadata": {
        "colab": {
          "base_uri": "https://localhost:8080/"
        },
        "id": "wXtpCl7xNQic",
        "outputId": "0577d4ef-8ba4-4597-fce4-e4f4c05d35d0"
      },
      "execution_count": 26,
      "outputs": [
        {
          "output_type": "execute_result",
          "data": {
            "text/plain": [
              "count       381502\n",
              "unique           3\n",
              "top       Critical\n",
              "freq        200866\n",
              "Name: CRITICAL FLAG, dtype: object"
            ]
          },
          "metadata": {},
          "execution_count": 26
        }
      ]
    },
    {
      "cell_type": "code",
      "source": [
        "#Violation code it is establishment by inspection"
      ],
      "metadata": {
        "id": "m43mgZZtgLq-"
      },
      "execution_count": 27,
      "outputs": []
    },
    {
      "cell_type": "code",
      "source": [
        "df['VIOLATION CODE'].describe()"
      ],
      "metadata": {
        "colab": {
          "base_uri": "https://localhost:8080/"
        },
        "id": "PeAUq0TsNfiS",
        "outputId": "9365291d-3185-439c-c0df-fdf62f8304ab"
      },
      "execution_count": 28,
      "outputs": [
        {
          "output_type": "execute_result",
          "data": {
            "text/plain": [
              "count     373163\n",
              "unique       105\n",
              "top          10F\n",
              "freq       64954\n",
              "Name: VIOLATION CODE, dtype: object"
            ]
          },
          "metadata": {},
          "execution_count": 28
        }
      ]
    },
    {
      "cell_type": "code",
      "source": [
        "#Cuisine description define restaurant cuisine"
      ],
      "metadata": {
        "id": "v7FTg0sXgcML"
      },
      "execution_count": 29,
      "outputs": []
    },
    {
      "cell_type": "code",
      "source": [
        "df['CUISINE DESCRIPTION'].describe()"
      ],
      "metadata": {
        "colab": {
          "base_uri": "https://localhost:8080/"
        },
        "id": "J95HC14QOVqA",
        "outputId": "fb05a78b-4428-4cdc-d6b2-eb3d080a2504"
      },
      "execution_count": 30,
      "outputs": [
        {
          "output_type": "execute_result",
          "data": {
            "text/plain": [
              "count       377737\n",
              "unique          87\n",
              "top       American\n",
              "freq         72541\n",
              "Name: CUISINE DESCRIPTION, dtype: object"
            ]
          },
          "metadata": {},
          "execution_count": 30
        }
      ]
    },
    {
      "cell_type": "code",
      "source": [
        "#Grade define by N=not yet grade,A= grade A,B= grade B, C=grade C, Z= grade pending, P= grade\n",
        "#pending on re-opening"
      ],
      "metadata": {
        "id": "CoMvhtahgqw5"
      },
      "execution_count": 31,
      "outputs": []
    },
    {
      "cell_type": "code",
      "source": [
        "df['GRADE'].describe()"
      ],
      "metadata": {
        "colab": {
          "base_uri": "https://localhost:8080/"
        },
        "id": "ocEZ_aMMedS_",
        "outputId": "3a03344e-05cd-4371-99d7-b1734ec55c8d"
      },
      "execution_count": 32,
      "outputs": [
        {
          "output_type": "execute_result",
          "data": {
            "text/plain": [
              "count     192727\n",
              "unique         7\n",
              "top            A\n",
              "freq      150936\n",
              "Name: GRADE, dtype: object"
            ]
          },
          "metadata": {},
          "execution_count": 32
        }
      ]
    },
    {
      "cell_type": "code",
      "source": [
        "#NTA. define level the weighted average by total lot area is calculated in a restaurant."
      ],
      "metadata": {
        "id": "MIhLSxSVhVZp"
      },
      "execution_count": 33,
      "outputs": []
    },
    {
      "cell_type": "code",
      "source": [
        "df['NTA'].describe()"
      ],
      "metadata": {
        "colab": {
          "base_uri": "https://localhost:8080/"
        },
        "id": "z1boOLq5OmyJ",
        "outputId": "e2c3743e-d66e-4b87-f977-ed1fdde3ef70"
      },
      "execution_count": 34,
      "outputs": [
        {
          "output_type": "execute_result",
          "data": {
            "text/plain": [
              "count     374994\n",
              "unique       193\n",
              "top         MN17\n",
              "freq       22645\n",
              "Name: NTA, dtype: object"
            ]
          },
          "metadata": {},
          "execution_count": 34
        }
      ]
    },
    {
      "cell_type": "code",
      "source": [
        "#DBA define name of business"
      ],
      "metadata": {
        "id": "QG1kQ_kChv1q"
      },
      "execution_count": 35,
      "outputs": []
    },
    {
      "cell_type": "code",
      "source": [
        "df['DBA'].describe()"
      ],
      "metadata": {
        "colab": {
          "base_uri": "https://localhost:8080/"
        },
        "id": "lQs-1oSFPBhy",
        "outputId": "b6c06074-fdec-4430-dabb-b8e461816165"
      },
      "execution_count": 36,
      "outputs": [
        {
          "output_type": "execute_result",
          "data": {
            "text/plain": [
              "count     380428\n",
              "unique     23192\n",
              "top       DUNKIN\n",
              "freq        3963\n",
              "Name: DBA, dtype: object"
            ]
          },
          "metadata": {},
          "execution_count": 36
        }
      ]
    },
    {
      "cell_type": "code",
      "source": [
        "import seaborn as sns\n",
        "%matplotlib inline"
      ],
      "metadata": {
        "id": "PV6bzJ46SbJS"
      },
      "execution_count": 37,
      "outputs": []
    },
    {
      "cell_type": "markdown",
      "source": [
        "GRAPHS"
      ],
      "metadata": {
        "id": "ydmg0vWTM7wo"
      }
    },
    {
      "cell_type": "code",
      "source": [
        "#This graph #1 show the descriptive standard deviation of SCORE column"
      ],
      "metadata": {
        "id": "Subw2PD1NBkV"
      },
      "execution_count": 38,
      "outputs": []
    },
    {
      "cell_type": "code",
      "source": [
        "sns.displot(df['SCORE'])"
      ],
      "metadata": {
        "colab": {
          "base_uri": "https://localhost:8080/",
          "height": 387
        },
        "id": "xFZX_alWTh2y",
        "outputId": "039e7f16-8e11-46f0-eb8a-c3f5e574d0c4"
      },
      "execution_count": 39,
      "outputs": [
        {
          "output_type": "execute_result",
          "data": {
            "text/plain": [
              "<seaborn.axisgrid.FacetGrid at 0x7f9bbef92c90>"
            ]
          },
          "metadata": {},
          "execution_count": 39
        },
        {
          "output_type": "display_data",
          "data": {
            "image/png": "[encoded data removed]",
            "text/plain": [
              "<Figure size 360x360 with 1 Axes>"
            ]
          },
          "metadata": {
            "needs_background": "light"
          }
        }
      ]
    },
    {
      "cell_type": "code",
      "source": [
        "#BIN define management of restaurant.include peak - rush time, speed service,kitchen display\n",
        "#system, low waste (extra-over prepared food)\n",
        "#The std and mean is 0.03 [2.5 - 0.03]= 2.47\n",
        "#                         [2.5 + 0.03]= 2.53\n",
        "#The std between 2.47 & 2.53\n",
        "#The perfect is 1 could infer that BIN is on parameters of management of restaurants"
      ],
      "metadata": {
        "id": "uJG6B3FxiCua"
      },
      "execution_count": 40,
      "outputs": []
    },
    {
      "cell_type": "code",
      "source": [
        "df['BIN'].describe()"
      ],
      "metadata": {
        "colab": {
          "base_uri": "https://localhost:8080/"
        },
        "id": "mZTGvsjudQ7L",
        "outputId": "6977313e-f16b-4102-8477-8672f6419df3"
      },
      "execution_count": 41,
      "outputs": [
        {
          "output_type": "execute_result",
          "data": {
            "text/plain": [
              "count    3.732310e+05\n",
              "mean     2.513340e+06\n",
              "std      1.346311e+06\n",
              "min      1.000000e+06\n",
              "25%      1.044211e+06\n",
              "50%      3.008255e+06\n",
              "75%      4.002405e+06\n",
              "max      5.799501e+06\n",
              "Name: BIN, dtype: float64"
            ]
          },
          "metadata": {},
          "execution_count": 41
        }
      ]
    },
    {
      "cell_type": "code",
      "source": [
        "#Graph #2 with score and bin, which present the idea of speed service kitchen,low wasted,also\n",
        "#included peak in rush time"
      ],
      "metadata": {
        "id": "o7RWzSZeNdY0"
      },
      "execution_count": 42,
      "outputs": []
    },
    {
      "cell_type": "code",
      "source": [
        "sns.jointplot(y='SCORE',x='BIN',data=df)"
      ],
      "metadata": {
        "colab": {
          "base_uri": "https://localhost:8080/",
          "height": 459
        },
        "id": "_Nrve6duhGIn",
        "outputId": "3395f3a7-e3d5-40ab-eed1-2bf510302e1d"
      },
      "execution_count": 43,
      "outputs": [
        {
          "output_type": "execute_result",
          "data": {
            "text/plain": [
              "<seaborn.axisgrid.JointGrid at 0x7f9bbf2f62d0>"
            ]
          },
          "metadata": {},
          "execution_count": 43
        },
        {
          "output_type": "display_data",
          "data": {
            "image/png": "[encoded data removed]",
            "text/plain": [
              "<Figure size 432x432 with 3 Axes>"
            ]
          },
          "metadata": {
            "needs_background": "light"
          }
        }
      ]
    },
    {
      "cell_type": "code",
      "source": [
        "#GRAPH #3 it represent the boro & score which Queens,Brooklyn and Manhattan with nice score "
      ],
      "metadata": {
        "id": "tI4lbdnOP8Qa"
      },
      "execution_count": 44,
      "outputs": []
    },
    {
      "cell_type": "code",
      "source": [
        "sns.barplot(x='BORO',y='SCORE',data=df)"
      ],
      "metadata": {
        "colab": {
          "base_uri": "https://localhost:8080/",
          "height": 297
        },
        "id": "jMABdOL0iZqp",
        "outputId": "f1fd9cfc-7c5b-4acd-ed64-1ae8a8f57561"
      },
      "execution_count": 45,
      "outputs": [
        {
          "output_type": "execute_result",
          "data": {
            "text/plain": [
              "<matplotlib.axes._subplots.AxesSubplot at 0x7f9bbf96c7d0>"
            ]
          },
          "metadata": {},
          "execution_count": 45
        },
        {
          "output_type": "display_data",
          "data": {
            "image/png": "[encoded data removed]",
            "text/plain": [
              "<Figure size 432x288 with 1 Axes>"
            ]
          },
          "metadata": {
            "needs_background": "light"
          }
        }
      ]
    },
    {
      "cell_type": "code",
      "source": [
        "#GRAPH #4 it represent more clear the head of score by boro"
      ],
      "metadata": {
        "id": "DXmd_74hRGx4"
      },
      "execution_count": 46,
      "outputs": []
    },
    {
      "cell_type": "code",
      "source": [
        "sns.boxplot(x='BORO',y='SCORE',data=df)"
      ],
      "metadata": {
        "colab": {
          "base_uri": "https://localhost:8080/",
          "height": 297
        },
        "id": "vDMiYqtcjemO",
        "outputId": "7ea6787d-a08b-447f-c5b4-a19dd8b5a5be"
      },
      "execution_count": 47,
      "outputs": [
        {
          "output_type": "execute_result",
          "data": {
            "text/plain": [
              "<matplotlib.axes._subplots.AxesSubplot at 0x7f9bc0937590>"
            ]
          },
          "metadata": {},
          "execution_count": 47
        },
        {
          "output_type": "display_data",
          "data": {
            "image/png": "[encoded data removed]",
            "text/plain": [
              "<Figure size 432x288 with 1 Axes>"
            ]
          },
          "metadata": {
            "needs_background": "light"
          }
        }
      ]
    },
    {
      "cell_type": "code",
      "source": [
        "#GRAPH #5 it represent the critical flag which Manhattan & Queens show critical high level\n",
        "#"
      ],
      "metadata": {
        "id": "Y7IjSJNARk8T"
      },
      "execution_count": 48,
      "outputs": []
    },
    {
      "cell_type": "code",
      "source": [
        "sns.boxenplot(x='BORO',y='SCORE',data=df,hue='CRITICAL FLAG')"
      ],
      "metadata": {
        "colab": {
          "base_uri": "https://localhost:8080/",
          "height": 297
        },
        "id": "8_I-afYDj_Z5",
        "outputId": "db5f3298-db31-41c4-9f94-eb7a66b21aaf"
      },
      "execution_count": 49,
      "outputs": [
        {
          "output_type": "execute_result",
          "data": {
            "text/plain": [
              "<matplotlib.axes._subplots.AxesSubplot at 0x7f9bc0997350>"
            ]
          },
          "metadata": {},
          "execution_count": 49
        },
        {
          "output_type": "display_data",
          "data": {
            "image/png": "[encoded data removed]",
            "text/plain": [
              "<Figure size 432x288 with 1 Axes>"
            ]
          },
          "metadata": {
            "needs_background": "light"
          }
        }
      ]
    },
    {
      "cell_type": "code",
      "source": [
        "#GRAPH #6 it represent bin (service management)the high is Staten Island that could\n",
        "#influence the small amount of restaurant but good management"
      ],
      "metadata": {
        "id": "uIOPDkw6mMmC"
      },
      "execution_count": 50,
      "outputs": []
    },
    {
      "cell_type": "code",
      "source": [
        "sns.boxplot(y='BIN',x='BORO',data=df)"
      ],
      "metadata": {
        "colab": {
          "base_uri": "https://localhost:8080/",
          "height": 308
        },
        "id": "3z18h0M0b1Ss",
        "outputId": "bbbca68b-ee8c-436b-e163-00b791db525d"
      },
      "execution_count": 51,
      "outputs": [
        {
          "output_type": "execute_result",
          "data": {
            "text/plain": [
              "<matplotlib.axes._subplots.AxesSubplot at 0x7f9bc060b810>"
            ]
          },
          "metadata": {},
          "execution_count": 51
        },
        {
          "output_type": "display_data",
          "data": {
            "image/png": "[encoded data removed]",
            "text/plain": [
              "<Figure size 432x288 with 1 Axes>"
            ]
          },
          "metadata": {
            "needs_background": "light"
          }
        }
      ]
    },
    {
      "cell_type": "code",
      "source": [
        "#GRAPH #7 it represent BBL(basic business licence)Staten Island lead follow by Queens"
      ],
      "metadata": {
        "id": "8SxCgZ7nThnZ"
      },
      "execution_count": 52,
      "outputs": []
    },
    {
      "cell_type": "code",
      "source": [
        "sns.boxplot(x='BORO',y='BBL',data=df)"
      ],
      "metadata": {
        "colab": {
          "base_uri": "https://localhost:8080/",
          "height": 308
        },
        "id": "MoHZW27Nfgok",
        "outputId": "0159158d-82cc-42ad-f99a-77ecdae93a5f"
      },
      "execution_count": 53,
      "outputs": [
        {
          "output_type": "execute_result",
          "data": {
            "text/plain": [
              "<matplotlib.axes._subplots.AxesSubplot at 0x7f9bc0516210>"
            ]
          },
          "metadata": {},
          "execution_count": 53
        },
        {
          "output_type": "display_data",
          "data": {
            "image/png": "[encoded data removed]",
            "text/plain": [
              "<Figure size 432x288 with 1 Axes>"
            ]
          },
          "metadata": {
            "needs_background": "light"
          }
        }
      ]
    },
    {
      "cell_type": "code",
      "source": [
        "#GRAPH #8 it is a mixed data graph which help to represent each  data numeric values\n",
        "# of the  restaurant inspection columns  "
      ],
      "metadata": {
        "id": "Cc9SLWQ_USiS"
      },
      "execution_count": 54,
      "outputs": []
    },
    {
      "cell_type": "code",
      "source": [
        "df.hist()"
      ],
      "metadata": {
        "colab": {
          "base_uri": "https://localhost:8080/",
          "height": 532
        },
        "id": "z-pl5YlgUSch",
        "outputId": "400a70ef-9d22-4c8d-a1ba-e3362fcf7d75"
      },
      "execution_count": 55,
      "outputs": [
        {
          "output_type": "execute_result",
          "data": {
            "text/plain": [
              "array([[<matplotlib.axes._subplots.AxesSubplot object at 0x7f9bc03a3990>,\n",
              "        <matplotlib.axes._subplots.AxesSubplot object at 0x7f9bc0347dd0>,\n",
              "        <matplotlib.axes._subplots.AxesSubplot object at 0x7f9bc0309410>],\n",
              "       [<matplotlib.axes._subplots.AxesSubplot object at 0x7f9bc033fa10>,\n",
              "        <matplotlib.axes._subplots.AxesSubplot object at 0x7f9bc02b6dd0>,\n",
              "        <matplotlib.axes._subplots.AxesSubplot object at 0x7f9bc0239310>],\n",
              "       [<matplotlib.axes._subplots.AxesSubplot object at 0x7f9bc01f0810>,\n",
              "        <matplotlib.axes._subplots.AxesSubplot object at 0x7f9bc01a6d10>,\n",
              "        <matplotlib.axes._subplots.AxesSubplot object at 0x7f9bc00e9290>],\n",
              "       [<matplotlib.axes._subplots.AxesSubplot object at 0x7f9bc00a0790>,\n",
              "        <matplotlib.axes._subplots.AxesSubplot object at 0x7f9bc0055c50>,\n",
              "        <matplotlib.axes._subplots.AxesSubplot object at 0x7f9bbffd7190>]],\n",
              "      dtype=object)"
            ]
          },
          "metadata": {},
          "execution_count": 55
        },
        {
          "output_type": "display_data",
          "data": {
            "image/png": "[encoded data removed]",
            "text/plain": [
              "<Figure size 432x288 with 12 Axes>"
            ]
          },
          "metadata": {
            "needs_background": "light"
          }
        }
      ]
    },
    {
      "cell_type": "code",
      "source": [
        "#GRAPH #9 It defined the BIN(management)of the restaurant industria as well the\n",
        "#BBL(Basic Business License) included the longitude importance of the restaurats"
      ],
      "metadata": {
        "id": "H3sscOPeVsHL"
      },
      "execution_count": 56,
      "outputs": []
    },
    {
      "cell_type": "code",
      "source": [
        "df.plot(kind='hist')"
      ],
      "metadata": {
        "colab": {
          "base_uri": "https://localhost:8080/",
          "height": 300
        },
        "id": "R2o7dk7EZQSK",
        "outputId": "7201bdb6-f629-49b8-8bb9-851265fa6078"
      },
      "execution_count": 57,
      "outputs": [
        {
          "output_type": "execute_result",
          "data": {
            "text/plain": [
              "<matplotlib.axes._subplots.AxesSubplot at 0x7f9bbfe47190>"
            ]
          },
          "metadata": {},
          "execution_count": 57
        },
        {
          "output_type": "display_data",
          "data": {
            "image/png": "[encoded data removed]",
            "text/plain": [
              "<Figure size 432x288 with 1 Axes>"
            ]
          },
          "metadata": {
            "needs_background": "light"
          }
        }
      ]
    },
    {
      "cell_type": "code",
      "source": [
        "#GRAPH #10 it defined the BIN(management)which some boro with high score not represent\n",
        "#all restaurant management requirements"
      ],
      "metadata": {
        "id": "hfCAWL-6W7j2"
      },
      "execution_count": 58,
      "outputs": []
    },
    {
      "cell_type": "code",
      "source": [
        "df.plot(kind='scatter',y='SCORE',x='BIN')"
      ],
      "metadata": {
        "colab": {
          "base_uri": "https://localhost:8080/",
          "height": 297
        },
        "id": "3NEr3G-ka42O",
        "outputId": "198253d5-8539-42b2-ff84-09bf0f248e91"
      },
      "execution_count": 59,
      "outputs": [
        {
          "output_type": "execute_result",
          "data": {
            "text/plain": [
              "<matplotlib.axes._subplots.AxesSubplot at 0x7f9bbf9f5790>"
            ]
          },
          "metadata": {},
          "execution_count": 59
        },
        {
          "output_type": "display_data",
          "data": {
            "image/png": "[encoded data removed]",
            "text/plain": [
              "<Figure size 432x288 with 1 Axes>"
            ]
          },
          "metadata": {
            "needs_background": "light"
          }
        }
      ]
    },
    {
      "cell_type": "code",
      "source": [
        "#GRAPH #11 it present a clear visualization of BBL(Basic Bussiness License)\n"
      ],
      "metadata": {
        "id": "woEqjfgiXzOS"
      },
      "execution_count": 60,
      "outputs": []
    },
    {
      "cell_type": "code",
      "source": [
        "df.plot(kind='scatter',y='SCORE',x='BBL')"
      ],
      "metadata": {
        "colab": {
          "base_uri": "https://localhost:8080/",
          "height": 297
        },
        "id": "V-Crc3i4feh_",
        "outputId": "e3f1165e-11a1-4c29-919b-f23f98072090"
      },
      "execution_count": 61,
      "outputs": [
        {
          "output_type": "execute_result",
          "data": {
            "text/plain": [
              "<matplotlib.axes._subplots.AxesSubplot at 0x7f9bbf9152d0>"
            ]
          },
          "metadata": {},
          "execution_count": 61
        },
        {
          "output_type": "display_data",
          "data": {
            "image/png": "[encoded data removed]",
            "text/plain": [
              "<Figure size 432x288 with 1 Axes>"
            ]
          },
          "metadata": {
            "needs_background": "light"
          }
        }
      ]
    },
    {
      "cell_type": "code",
      "source": [
        "#The data of DOHMH NYC represents an essential contribution to the population of\n",
        "#NYC inspection of the restaurats created on August 1,2014,until now. It infers\n",
        "#the best food buy and eats the containig preventions for allergy or food intolerance.\n",
        "#Also, the data with a structure of food hygiene ratings. Summary of the concept\n",
        "# of the contribution of nutrition and preserving good habits of good food.\n"
      ],
      "metadata": {
        "id": "H3xvQIFot4RW"
      },
      "execution_count": 62,
      "outputs": []
    }
  ]
}